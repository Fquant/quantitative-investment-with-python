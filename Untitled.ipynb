{
 "cells": [
  {
   "cell_type": "markdown",
   "metadata": {},
   "source": [
    "#腾讯会议：232-685-363"
   ]
  },
  {
   "cell_type": "markdown",
   "metadata": {},
   "source": [
    "数据读取与保存，三种方法：  \n",
    "1. pandas方法  \n",
    "2. numpy方法  \n",
    "3. with open方法"
   ]
  },
  {
   "cell_type": "markdown",
   "metadata": {},
   "source": [
    "# 数据的筛选与整理"
   ]
  },
  {
   "cell_type": "markdown",
   "metadata": {},
   "source": [
    "1. 读取平安银行数据"
   ]
  },
  {
   "cell_type": "code",
   "execution_count": 2,
   "metadata": {},
   "outputs": [],
   "source": [
    "import pandas as pd"
   ]
  },
  {
   "cell_type": "code",
   "execution_count": 4,
   "metadata": {},
   "outputs": [
    {
     "data": {
      "text/plain": [
       "Index(['日期', '股票代码', '名称', '收盘价', '最高价', '最低价', '开盘价', '前收盘', '涨跌额', '涨跌幅',\n",
       "       '换手率', '成交量', '成交金额', '总市值', '流通市值'],\n",
       "      dtype='object')"
      ]
     },
     "execution_count": 4,
     "metadata": {},
     "output_type": "execute_result"
    }
   ],
   "source": [
    "payh=pd.read_csv(r'd:/000001.csv',encoding='gb2312')\n",
    "payh.head()\n",
    "payh.columns"
   ]
  },
  {
   "cell_type": "markdown",
   "metadata": {},
   "source": [
    "(2)删除不重要的列，包括“股票代码”“名称”“前收盘”“总市值”“流通市值”“涨跌额”“成交金额”"
   ]
  },
  {
   "cell_type": "markdown",
   "metadata": {},
   "source": [
    "**第一种方法**，运用drop函数"
   ]
  },
  {
   "cell_type": "code",
   "execution_count": null,
   "metadata": {
    "scrolled": false
   },
   "outputs": [],
   "source": [
    "payh.drop(columns=['股票代码','名称','前收盘'],inplace=True)\n",
    "payh.head()"
   ]
  },
  {
   "cell_type": "code",
   "execution_count": 5,
   "metadata": {
    "scrolled": true
   },
   "outputs": [
    {
     "name": "stdout",
     "output_type": "stream",
     "text": [
      "\n",
      "        Drop specified labels from rows or columns.\n",
      "\n",
      "        Remove rows or columns by specifying label names and corresponding\n",
      "        axis, or by specifying directly index or column names. When using a\n",
      "        multi-index, labels on different levels can be removed by specifying\n",
      "        the level.\n",
      "\n",
      "        Parameters\n",
      "        ----------\n",
      "        labels : single label or list-like\n",
      "            Index or column labels to drop.\n",
      "        axis : {0 or 'index', 1 or 'columns'}, default 0\n",
      "            Whether to drop labels from the index (0 or 'index') or\n",
      "            columns (1 or 'columns').\n",
      "        index : single label or list-like\n",
      "            Alternative to specifying axis (``labels, axis=0``\n",
      "            is equivalent to ``index=labels``).\n",
      "\n",
      "            .. versionadded:: 0.21.0\n",
      "        columns : single label or list-like\n",
      "            Alternative to specifying axis (``labels, axis=1``\n",
      "            is equivalent to ``columns=labels``).\n",
      "\n",
      "            .. versionadded:: 0.21.0\n",
      "        level : int or level name, optional\n",
      "            For MultiIndex, level from which the labels will be removed.\n",
      "        inplace : bool, default False\n",
      "            If True, do operation inplace and return None.\n",
      "        errors : {'ignore', 'raise'}, default 'raise'\n",
      "            If 'ignore', suppress error and only existing labels are\n",
      "            dropped.\n",
      "\n",
      "        Returns\n",
      "        -------\n",
      "        DataFrame\n",
      "            DataFrame without the removed index or column labels.\n",
      "\n",
      "        Raises\n",
      "        ------\n",
      "        KeyError\n",
      "            If any of the labels is not found in the selected axis.\n",
      "\n",
      "        See Also\n",
      "        --------\n",
      "        DataFrame.loc : Label-location based indexer for selection by label.\n",
      "        DataFrame.dropna : Return DataFrame with labels on given axis omitted\n",
      "            where (all or any) data are missing.\n",
      "        DataFrame.drop_duplicates : Return DataFrame with duplicate rows\n",
      "            removed, optionally only considering certain columns.\n",
      "        Series.drop : Return Series with specified index labels removed.\n",
      "\n",
      "        Examples\n",
      "        --------\n",
      "        >>> df = pd.DataFrame(np.arange(12).reshape(3, 4),\n",
      "        ...                   columns=['A', 'B', 'C', 'D'])\n",
      "        >>> df\n",
      "           A  B   C   D\n",
      "        0  0  1   2   3\n",
      "        1  4  5   6   7\n",
      "        2  8  9  10  11\n",
      "\n",
      "        Drop columns\n",
      "\n",
      "        >>> df.drop(['B', 'C'], axis=1)\n",
      "           A   D\n",
      "        0  0   3\n",
      "        1  4   7\n",
      "        2  8  11\n",
      "\n",
      "        >>> df.drop(columns=['B', 'C'])\n",
      "           A   D\n",
      "        0  0   3\n",
      "        1  4   7\n",
      "        2  8  11\n",
      "\n",
      "        Drop a row by index\n",
      "\n",
      "        >>> df.drop([0, 1])\n",
      "           A  B   C   D\n",
      "        2  8  9  10  11\n",
      "\n",
      "        Drop columns and/or rows of MultiIndex DataFrame\n",
      "\n",
      "        >>> midx = pd.MultiIndex(levels=[['lama', 'cow', 'falcon'],\n",
      "        ...                              ['speed', 'weight', 'length']],\n",
      "        ...                      codes=[[0, 0, 0, 1, 1, 1, 2, 2, 2],\n",
      "        ...                             [0, 1, 2, 0, 1, 2, 0, 1, 2]])\n",
      "        >>> df = pd.DataFrame(index=midx, columns=['big', 'small'],\n",
      "        ...                   data=[[45, 30], [200, 100], [1.5, 1], [30, 20],\n",
      "        ...                         [250, 150], [1.5, 0.8], [320, 250],\n",
      "        ...                         [1, 0.8], [0.3, 0.2]])\n",
      "        >>> df\n",
      "                        big     small\n",
      "        lama    speed   45.0    30.0\n",
      "                weight  200.0   100.0\n",
      "                length  1.5     1.0\n",
      "        cow     speed   30.0    20.0\n",
      "                weight  250.0   150.0\n",
      "                length  1.5     0.8\n",
      "        falcon  speed   320.0   250.0\n",
      "                weight  1.0     0.8\n",
      "                length  0.3     0.2\n",
      "\n",
      "        >>> df.drop(index='cow', columns='small')\n",
      "                        big\n",
      "        lama    speed   45.0\n",
      "                weight  200.0\n",
      "                length  1.5\n",
      "        falcon  speed   320.0\n",
      "                weight  1.0\n",
      "                length  0.3\n",
      "\n",
      "        >>> df.drop(index='length', level=1)\n",
      "                        big     small\n",
      "        lama    speed   45.0    30.0\n",
      "                weight  200.0   100.0\n",
      "        cow     speed   30.0    20.0\n",
      "                weight  250.0   150.0\n",
      "        falcon  speed   320.0   250.0\n",
      "                weight  1.0     0.8\n",
      "        \n"
     ]
    }
   ],
   "source": [
    "print(payh.drop.__doc__)"
   ]
  },
  {
   "cell_type": "code",
   "execution_count": null,
   "metadata": {},
   "outputs": [],
   "source": [
    "payh.drop(index=[0,1,2,3],inplace=True)\n",
    "payh.head()"
   ]
  },
  {
   "cell_type": "markdown",
   "metadata": {},
   "source": [
    "**第二种方法**,运用drop函数，但对应参数发生变化"
   ]
  },
  {
   "cell_type": "code",
   "execution_count": null,
   "metadata": {},
   "outputs": [],
   "source": [
    "payh.drop(['涨跌额','换手率','成交金额'],axis=1,inplace=True)\n",
    "payh.head()"
   ]
  },
  {
   "cell_type": "markdown",
   "metadata": {},
   "source": [
    "**第三种方法**"
   ]
  },
  {
   "cell_type": "code",
   "execution_count": null,
   "metadata": {},
   "outputs": [],
   "source": [
    "payh=payh[['日期','收盘价','最高价','最低价','开盘价','涨跌幅','成交量']]\n",
    "payh.head()"
   ]
  },
  {
   "cell_type": "markdown",
   "metadata": {},
   "source": [
    "(3)把剩余的列命名为英文"
   ]
  },
  {
   "cell_type": "markdown",
   "metadata": {},
   "source": [
    "**第一种方法**，利用rename函数"
   ]
  },
  {
   "cell_type": "code",
   "execution_count": null,
   "metadata": {
    "scrolled": false
   },
   "outputs": [],
   "source": [
    "payh.rename(columns={\"日期\":\"date\",'收盘价':'close','最高价':'high'},inplace=True)\n",
    "payh.head()"
   ]
  },
  {
   "cell_type": "markdown",
   "metadata": {},
   "source": [
    "**第二种方法**，直接赋值法"
   ]
  },
  {
   "cell_type": "code",
   "execution_count": null,
   "metadata": {},
   "outputs": [],
   "source": [
    "payh.columns=['date','close','high','low','open','pct','volume']\n",
    "payh.tail()"
   ]
  },
  {
   "cell_type": "markdown",
   "metadata": {},
   "source": [
    "(4)数据按时间先后排序"
   ]
  },
  {
   "cell_type": "markdown",
   "metadata": {},
   "source": [
    "**第一种方法**，直接用sort_values函数"
   ]
  },
  {
   "cell_type": "code",
   "execution_count": null,
   "metadata": {
    "scrolled": false
   },
   "outputs": [],
   "source": [
    "test=payh.sort_values('date',ascending=True)\n",
    "test.head()"
   ]
  },
  {
   "cell_type": "markdown",
   "metadata": {},
   "source": [
    "**第二种方法**，把date列转换成时间项，然后对时间排序"
   ]
  },
  {
   "cell_type": "code",
   "execution_count": null,
   "metadata": {},
   "outputs": [],
   "source": [
    "payh['date']=pd.to_datetime(payh['date'])\n",
    "payh.set_index('date',inplace=True)\n",
    "payh.sort_index(ascending=True,inplace=True)\n",
    "payh.head()"
   ]
  },
  {
   "cell_type": "markdown",
   "metadata": {},
   "source": [
    "(4)新增收益率序列，并把列名称命名为ret"
   ]
  },
  {
   "cell_type": "markdown",
   "metadata": {},
   "source": [
    "**第一种方法**，按公式直接算"
   ]
  },
  {
   "cell_type": "code",
   "execution_count": null,
   "metadata": {},
   "outputs": [],
   "source": [
    "payh['ret']=(payh['close']-payh['close'].shift(1))/payh['close'].shift(1)\n",
    "payh.head()"
   ]
  },
  {
   "cell_type": "markdown",
   "metadata": {},
   "source": [
    "**第二种方法**，运用diff函数"
   ]
  },
  {
   "cell_type": "code",
   "execution_count": null,
   "metadata": {},
   "outputs": [],
   "source": [
    "payh['ret1']=payh['close'].diff(1)/payh['close'].shift(1)\n",
    "payh.head()"
   ]
  },
  {
   "cell_type": "markdown",
   "metadata": {},
   "source": [
    "**第三种方法**，直接运用pct_change()函数 #percentile change"
   ]
  },
  {
   "cell_type": "code",
   "execution_count": null,
   "metadata": {},
   "outputs": [],
   "source": [
    "payh['ret3']=payh.close.pct_change()\n",
    "payh.head()"
   ]
  }
 ],
 "metadata": {
  "kernelspec": {
   "display_name": "Python 3",
   "language": "python",
   "name": "python3"
  },
  "language_info": {
   "codemirror_mode": {
    "name": "ipython",
    "version": 3
   },
   "file_extension": ".py",
   "mimetype": "text/x-python",
   "name": "python",
   "nbconvert_exporter": "python",
   "pygments_lexer": "ipython3",
   "version": "3.8.3"
  }
 },
 "nbformat": 4,
 "nbformat_minor": 4
}
